{
  "nbformat": 4,
  "nbformat_minor": 0,
  "metadata": {
    "colab": {
      "provenance": []
    },
    "kernelspec": {
      "name": "python3",
      "display_name": "Python 3"
    },
    "language_info": {
      "name": "python"
    }
  },
  "cells": [
    {
      "cell_type": "markdown",
      "source": [
        "AI ASSIGNMENT #1 Ricardo Martin Alvarado Martinez SN:1991819 Class time: N4"
      ],
      "metadata": {
        "id": "TumY6ABpo4rr"
      }
    },
    {
      "cell_type": "markdown",
      "source": [
        "Create a python script where the user is going to be asked for the name After that, the program will greet the user with the given name. Only exception: the script will not greet the user if the given name is \"Ana\", \"John\" or \"Peter\"."
      ],
      "metadata": {
        "id": "MjyL24jzo517"
      }
    },
    {
      "cell_type": "code",
      "execution_count": 19,
      "metadata": {
        "id": "HYK3EkOa7Xre",
        "colab": {
          "base_uri": "https://localhost:8080/"
        },
        "outputId": "b40fba73-42d9-46b8-d05a-6471f0a3495f"
      },
      "outputs": [
        {
          "output_type": "stream",
          "name": "stdout",
          "text": [
            "Hi user, what is your name???\n",
            "ana\n",
            "i do not like that name, go away!\n"
          ]
        }
      ],
      "source": [
        "from ast import Name\n",
        "\n",
        "Greeting = 'Hi user, what is your name???'\n",
        "print (Greeting)\n",
        "Name = input()\n",
        "N2C = Name.capitalize()\n",
        "\n",
        "if (N2C == 'Ana'):\n",
        "  print('i do not like that name, go away!')\n",
        "\n",
        "elif (N2C == 'John'):\n",
        "    print('i do not like that name, go away!')\n",
        "\n",
        "elif (N2C == 'Peter'):\n",
        "    print('i do not like that name, go away!')\n",
        "\n",
        "else: (print('Hi', Name, 'How are you feeling today?'))\n"
      ]
    },
    {
      "cell_type": "markdown",
      "source": [
        "Create a function in a pyhton script that returns (print) the last element of a given list order of the list and finally returns (print) the reverted list. "
      ],
      "metadata": {
        "id": "lzTpT_1Oo1Y0"
      }
    },
    {
      "cell_type": "code",
      "source": [
        "shopping = []\n",
        "n = int(input('number of objects in list:'))\n",
        "for i in range(0,n):\n",
        "  items = input('Name of object please:')\n",
        "  shopping.append(items)\n",
        "\n",
        "lastobj = shopping[-1]\n",
        "print('last object is:', lastobj)\n",
        "\n",
        "shopping.reverse()\n",
        "print('reverse list:', shopping)\n",
        "print('normal list:', list(reversed(shopping)))"
      ],
      "metadata": {
        "colab": {
          "base_uri": "https://localhost:8080/"
        },
        "id": "xpAKol-e1e_P",
        "outputId": "4c43e811-3e65-45e9-8870-44bc763754f8"
      },
      "execution_count": 37,
      "outputs": [
        {
          "output_type": "stream",
          "name": "stdout",
          "text": [
            "number of objects in list:2\n",
            "Name of object please:potato\n",
            "Name of object please:grape\n",
            "last object is: grape\n",
            "reverse list: ['grape', 'potato']\n",
            "normal list: ['potato', 'grape']\n"
          ]
        }
      ]
    },
    {
      "cell_type": "markdown",
      "source": [],
      "metadata": {
        "id": "OMI63RgUojmZ"
      }
    },
    {
      "cell_type": "markdown",
      "source": [
        "Create a function in a python script that takes a list of strings as input and then it prints,line by line, the whole list in a rectangular shape.\n",
        "E.g., the list could be [\"Hi\", \"my\", \"name\", \"is\", \"John\", \"Doe\"] and the final result is:\n",
        "\n",
        "********** \n",
        "\n",
        "* Hi        * \n",
        "\n",
        "* my       *\n",
        "\n",
        "* name   * \n",
        "\n",
        "* is         * \n",
        "\n",
        "* John    * \n",
        "\n",
        "* Doe     *\n",
        "\n",
        "*********** "
      ],
      "metadata": {
        "id": "t8Vqi5sbolQu"
      }
    },
    {
      "cell_type": "code",
      "source": [
        "def my_function(sentence):\n",
        "  for x in sentence:\n",
        "    print(x)\n",
        "\n",
        "express = []\n",
        "print('gimmie a sentence')\n",
        "n = int(input('number of words in sentence:'))\n",
        "for i in range(0,n):\n",
        "  express.append(str(input()))\n",
        "\n",
        "my_function(express)\n",
        "\n",
        "\n"
      ],
      "metadata": {
        "id": "CxEJxmIGEYsi",
        "colab": {
          "base_uri": "https://localhost:8080/"
        },
        "outputId": "de817e0e-5824-4d2f-c6ef-76e5c1330048"
      },
      "execution_count": 38,
      "outputs": [
        {
          "output_type": "stream",
          "name": "stdout",
          "text": [
            "gimmie a sentence\n",
            "number of words in sentence:2\n",
            "Hello\n",
            "World!\n",
            "Hello\n",
            "World!\n"
          ]
        }
      ]
    }
  ]
}